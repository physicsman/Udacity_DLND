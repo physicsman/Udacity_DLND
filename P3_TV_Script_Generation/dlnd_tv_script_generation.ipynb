{
 "cells": [
  {
   "cell_type": "markdown",
   "metadata": {},
   "source": [
    "# TV Script Generation\n",
    "In this project, you'll generate your own [Simpsons](https://en.wikipedia.org/wiki/The_Simpsons) TV scripts using RNNs.  You'll be using part of the [Simpsons dataset](https://www.kaggle.com/wcukierski/the-simpsons-by-the-data) of scripts from 27 seasons.  The Neural Network you'll build will generate a new TV script for a scene at [Moe's Tavern](https://simpsonswiki.com/wiki/Moe's_Tavern).\n",
    "## Get the Data\n",
    "The data is already provided for you.  You'll be using a subset of the original dataset.  It consists of only the scenes in Moe's Tavern.  This doesn't include other versions of the tavern, like \"Moe's Cavern\", \"Flaming Moe's\", \"Uncle Moe's Family Feed-Bag\", etc.."
   ]
  },
  {
   "cell_type": "code",
   "execution_count": 1,
   "metadata": {
    "collapsed": true
   },
   "outputs": [],
   "source": [
    "# Setting this to 'False' switches to alternate experimental code\n",
    "# and requires the file './data/simpsons/simpsons_script_lines_sorted.csv'\n",
    "pass_unittests = True \n",
    "\n",
    "\"\"\"\n",
    "DON'T MODIFY ANYTHING IN THIS CELL\n",
    "\"\"\"\n",
    "if not pass_unittests:\n",
    "    import helper_new as helper\n",
    "else:\n",
    "    import helper\n",
    "\n",
    "    data_dir = './data/simpsons/moes_tavern_lines.txt'\n",
    "    text = helper.load_data(data_dir)\n",
    "    # Ignore notice, since we don't use it for analysing the data\n",
    "    text = text[81:]"
   ]
  },
  {
   "cell_type": "code",
   "execution_count": 2,
   "metadata": {},
   "outputs": [],
   "source": [
    "if not pass_unittests:\n",
    "    # Create curated data\n",
    "    file = 'simpsons.p'\n",
    "    helper.create_simpsons(file)\n",
    "\n",
    "    # Load curated data\n",
    "    (word_count, episode_id,\n",
    "    character_id, raw_character_text,\n",
    "    location_id, raw_location_text,\n",
    "    spoken_words,\n",
    "    int_to_character, character_to_int) = helper.load_params_jj(file)"
   ]
  },
  {
   "cell_type": "markdown",
   "metadata": {},
   "source": [
    "## Explore the Data\n",
    "Play around with `view_sentence_range` to view different parts of the data."
   ]
  },
  {
   "cell_type": "code",
   "execution_count": 3,
   "metadata": {},
   "outputs": [
    {
     "name": "stdout",
     "output_type": "stream",
     "text": [
      "Dataset Stats\n",
      "Roughly the number of unique words: 11492\n",
      "Number of scenes: 262\n",
      "Average number of sentences in each scene: 15.248091603053435\n",
      "Number of lines: 4257\n",
      "Average number of words in each line: 11.50434578341555\n",
      "\n",
      "The sentences 0 to 10:\n",
      "Moe_Szyslak: (INTO PHONE) Moe's Tavern. Where the elite meet to drink.\n",
      "Bart_Simpson: Eh, yeah, hello, is Mike there? Last name, Rotch.\n",
      "Moe_Szyslak: (INTO PHONE) Hold on, I'll check. (TO BARFLIES) Mike Rotch. Mike Rotch. Hey, has anybody seen Mike Rotch, lately?\n",
      "Moe_Szyslak: (INTO PHONE) Listen you little puke. One of these days I'm gonna catch you, and I'm gonna carve my name on your back with an ice pick.\n",
      "Moe_Szyslak: What's the matter Homer? You're not your normal effervescent self.\n",
      "Homer_Simpson: I got my problems, Moe. Give me another one.\n",
      "Moe_Szyslak: Homer, hey, you should not drink to forget your problems.\n",
      "Barney_Gumble: Yeah, you should only drink to enhance your social skills.\n",
      "\n",
      "\n"
     ]
    }
   ],
   "source": [
    "import numpy as np\n",
    "\n",
    "if not pass_unittests:\n",
    "    n = 10 # number of lines\n",
    "    rint = np.random.randint(0,len(spoken_words)-n)\n",
    "    view_sentence_range = (rint, rint+n)\n",
    "    \n",
    "    print('Dataset Stats')\n",
    "    print('Number of episodes: {}'.format(len(set(episode_id))))\n",
    "    print('Roughly the number of unique words: {}'.format(len({word: None for n in range(len(spoken_words)) \n",
    "                                                               for word in spoken_words[n].split()})))\n",
    "    scenes_ind = []\n",
    "    num = 0\n",
    "    for n, i in enumerate(location_id):\n",
    "        if i != num: # New scene\n",
    "            scenes_ind.append(n)\n",
    "        num = i\n",
    "    print('Number of scenes: {}'.format(len(scenes_ind)))\n",
    "    average_lines_count_scene = len(spoken_words) / len(scenes_ind)\n",
    "    print('Average number of lines in each scene: {}'.format(average_lines_count_scene))\n",
    "\n",
    "    print('Number of lines: {}'.format(len(spoken_words)))\n",
    "    word_count_line = [len(line.split()) for line in spoken_words]\n",
    "    print('Average number of words in each line: {}'.format(np.average(word_count_line)))\n",
    "\n",
    "    print()\n",
    "    print('The sentences {} to {}:'.format(*view_sentence_range))\n",
    "    print('\\n'.join([ '{}: {}'.format(raw_character_text[n],spoken_words[n]) for\n",
    "                                    n in range(view_sentence_range[0],view_sentence_range[1])]))\n",
    "else:\n",
    "    view_sentence_range = (0, 10)\n",
    "\n",
    "    \"\"\"\n",
    "    DON'T MODIFY ANYTHING IN THIS CELL\n",
    "    \"\"\"\n",
    "    # import numpy as np\n",
    "\n",
    "    print('Dataset Stats')\n",
    "    print('Roughly the number of unique words: {}'.format(len({word: None for word in text.split()})))\n",
    "    scenes = text.split('\\n\\n')\n",
    "    print('Number of scenes: {}'.format(len(scenes)))\n",
    "    sentence_count_scene = [scene.count('\\n') for scene in scenes]\n",
    "    print('Average number of sentences in each scene: {}'.format(np.average(sentence_count_scene)))\n",
    "\n",
    "    sentences = [sentence for scene in scenes for sentence in scene.split('\\n')]\n",
    "    print('Number of lines: {}'.format(len(sentences)))\n",
    "    word_count_sentence = [len(sentence.split()) for sentence in sentences]\n",
    "    print('Average number of words in each line: {}'.format(np.average(word_count_sentence)))\n",
    "\n",
    "    print()\n",
    "    print('The sentences {} to {}:'.format(*view_sentence_range))\n",
    "    print('\\n'.join(text.split('\\n')[view_sentence_range[0]:view_sentence_range[1]]))"
   ]
  },
  {
   "cell_type": "markdown",
   "metadata": {},
   "source": [
    "## Implement Preprocessing Functions\n",
    "The first thing to do to any dataset is preprocessing.  Implement the following preprocessing functions below:\n",
    "- Lookup Table\n",
    "- Tokenize Punctuation\n",
    "\n",
    "### Lookup Table\n",
    "To create a word embedding, you first need to transform the words to ids.  In this function, create two dictionaries:\n",
    "- Dictionary to go from the words to an id, we'll call `vocab_to_int`\n",
    "- Dictionary to go from the id to word, we'll call `int_to_vocab`\n",
    "\n",
    "Return these dictionaries in the following tuple `(vocab_to_int, int_to_vocab)`"
   ]
  },
  {
   "cell_type": "code",
   "execution_count": 4,
   "metadata": {},
   "outputs": [
    {
     "name": "stdout",
     "output_type": "stream",
     "text": [
      "Tests Passed\n"
     ]
    }
   ],
   "source": [
    "import numpy as np\n",
    "import problem_unittests as tests\n",
    "from collections import Counter\n",
    "\n",
    "def create_lookup_tables(words):\n",
    "    \"\"\"\n",
    "    Create lookup tables for vocabulary\n",
    "    :param text: The text of tv scripts split into words\n",
    "    :return: A tuple of dicts (vocab_to_int, int_to_vocab)\n",
    "    \"\"\"\n",
    "    # TODO: Implement Function\n",
    "    word_counts = Counter(words)\n",
    "    sorted_vocab = sorted(word_counts, key=word_counts.get, reverse=True) # Words sorted from most common to least\n",
    "    int_to_vocab = {ii: word for ii, word in enumerate(sorted_vocab)}     # Careful, Later the assumption is made that \n",
    "    vocab_to_int = {word: ii for ii, word in int_to_vocab.items()}        # max(int_to_vocab.values()) == len(int_to_vocab.values())\n",
    "    \n",
    "    return (vocab_to_int, int_to_vocab)\n",
    "\n",
    "\n",
    "\"\"\"\n",
    "DON'T MODIFY ANYTHING IN THIS CELL THAT IS BELOW THIS LINE\n",
    "\"\"\"\n",
    "tests.test_create_lookup_tables(create_lookup_tables)"
   ]
  },
  {
   "cell_type": "markdown",
   "metadata": {},
   "source": [
    "### Tokenize Punctuation\n",
    "We'll be splitting the script into a word array using spaces as delimiters.  However, punctuations like periods and exclamation marks make it hard for the neural network to distinguish between the word \"bye\" and \"bye!\".\n",
    "\n",
    "Implement the function `token_lookup` to return a dict that will be used to tokenize symbols like \"!\" into \"||Exclamation_Mark||\".  Create a dictionary for the following symbols where the symbol is the key and value is the token:\n",
    "- Period ( . )\n",
    "- Comma ( , )\n",
    "- Quotation Mark ( \" )\n",
    "- Semicolon ( ; )\n",
    "- Exclamation mark ( ! )\n",
    "- Question mark ( ? )\n",
    "- Left Parentheses ( ( )\n",
    "- Right Parentheses ( ) )\n",
    "- Dash ( -- )\n",
    "- Return ( \\n )\n",
    "\n",
    "This dictionary will be used to token the symbols and add the delimiter (space) around it.  This separates the symbols as it's own word, making it easier for the neural network to predict on the next word. Make sure you don't use a token that could be confused as a word. Instead of using the token \"dash\", try using something like \"||dash||\"."
   ]
  },
  {
   "cell_type": "code",
   "execution_count": 5,
   "metadata": {},
   "outputs": [
    {
     "name": "stdout",
     "output_type": "stream",
     "text": [
      "Tests Passed\n"
     ]
    }
   ],
   "source": [
    "def token_lookup():\n",
    "    \"\"\"\n",
    "    Generate a dict to turn punctuation into a token.\n",
    "    :return: Tokenize dictionary where the key is the punctuation and the value is the token\n",
    "    \"\"\"\n",
    "    # TODO: Implement Function\n",
    "    tokens = ['.', ',', '\"', ';', '!', '?', '(', ')', '--', '\\n']\n",
    "    label = 'tokentext'\n",
    "    token_dict = {tokens[n]: label.join(str(n)) for n in range(len(tokens))}\n",
    "    \n",
    "    return token_dict\n",
    "\n",
    "\"\"\"\n",
    "DON'T MODIFY ANYTHING IN THIS CELL THAT IS BELOW THIS LINE\n",
    "\"\"\"\n",
    "if pass_unittests:\n",
    "    tests.test_tokenize(token_lookup)"
   ]
  },
  {
   "cell_type": "markdown",
   "metadata": {},
   "source": [
    "## Preprocess all the data and save it\n",
    "Running the code cell below will preprocess all the data and save it to file."
   ]
  },
  {
   "cell_type": "code",
   "execution_count": 6,
   "metadata": {},
   "outputs": [],
   "source": [
    "if not pass_unittests:\n",
    "    num_scenes = 2500 # Number of scenes to train on (one line scenes are removed)\n",
    "    location_counts = Counter(location_id)\n",
    "    print(location_counts.most_common(10))\n",
    "    location = 5 # Moes Tavern (15) Simpson Home (5)\n",
    "    ind = np.argwhere(location_id == location)\n",
    "    count_scenes = 0\n",
    "    scene_start = np.array([ind[0]], dtype=int)\n",
    "    scene_end = np.array([], dtype=int)\n",
    "    for n in range(len(ind)-1):\n",
    "        if ind[n+1] - ind[n] != 1:\n",
    "            count_scenes += 1\n",
    "            scene_end = np.append(scene_end, ind[n])\n",
    "            scene_start = np.append(scene_start, ind[n+1])\n",
    "    scene_end = np.append(scene_end, ind[-1])\n",
    "    print(count_scenes)    \n",
    "    assert num_scenes <= count_scenes,\\\n",
    "        'Number of scenes exceeds maximum: {}'.format(count_scenes)\n",
    "\n",
    "    ind_s = np.sort(np.random.choice(np.arange(len(scene_start)), num_scenes, replace=False))\n",
    "    # Remove one line scenes\n",
    "    ind_s = ind_s[np.where((scene_end[ind_s] - scene_start[ind_s]) > 1)]\n",
    "    ind = []\n",
    "    print(len(ind_s))\n",
    "    _ = [ ind.extend(list(range(scene_start[ind_s[n]],scene_end[ind_s[n]]))) for n in range(len(ind_s))]\n",
    "    text = np.concatenate((raw_character_text[ind, None],spoken_words[ind, None]), axis=1)\n",
    "    \n",
    "    scene_marker = (np.cumsum(scene_end[ind_s] - scene_start[ind_s]) - 1).tolist()\n",
    " \n",
    "\"\"\"\n",
    "DON'T MODIFY ANYTHING IN THIS CELL\n",
    "\"\"\"\n",
    "# Preprocess Training, Validation, and Testing Data\n",
    "# helper.preprocess_and_save_data(data_dir, token_lookup, create_lookup_tables)\n",
    "if pass_unittests:\n",
    "    helper.preprocess_and_save_data(data_dir, token_lookup, create_lookup_tables)\n",
    "else:\n",
    "    helper.preprocess_and_save_data(text, scene_marker, create_lookup_tables)"
   ]
  },
  {
   "cell_type": "markdown",
   "metadata": {},
   "source": [
    "# Check Point\n",
    "This is your first checkpoint. If you ever decide to come back to this notebook or have to restart the notebook, you can start from here. The preprocessed data has been saved to disk."
   ]
  },
  {
   "cell_type": "code",
   "execution_count": 7,
   "metadata": {
    "collapsed": true
   },
   "outputs": [],
   "source": [
    "pass_unittests = True\n",
    "\"\"\"\n",
    "DON'T MODIFY ANYTHING IN THIS CELL\n",
    "\"\"\"\n",
    "import numpy as np\n",
    "if pass_unittests:\n",
    "    import helper\n",
    "else:\n",
    "    import helper_new as helper\n",
    "import problem_unittests as tests\n",
    "\n",
    "if pass_unittests:\n",
    "    int_text, vocab_to_int, int_to_vocab, token_dict = helper.load_preprocess()\n",
    "else:\n",
    "    int_text, scene_marker, vocab_to_int, int_to_vocab = helper.load_preprocess()"
   ]
  },
  {
   "cell_type": "code",
   "execution_count": 8,
   "metadata": {},
   "outputs": [],
   "source": [
    "# For testing\n",
    "if not pass_unittests:\n",
    "    for n in range(20):\n",
    "        print(helper.remove_token_spaces(' '.join([int_to_vocab[ii] for ii in int_text[n]])))\n",
    "        if n in scene_marker:\n",
    "            print('\\n\\n')"
   ]
  },
  {
   "cell_type": "markdown",
   "metadata": {},
   "source": [
    "## Build the Neural Network\n",
    "You'll build the components necessary to build a RNN by implementing the following functions below:\n",
    "- get_inputs\n",
    "- get_init_cell\n",
    "- get_embed\n",
    "- build_rnn\n",
    "- build_nn\n",
    "- get_batches\n",
    "\n",
    "### Check the Version of TensorFlow and Access to GPU"
   ]
  },
  {
   "cell_type": "code",
   "execution_count": 9,
   "metadata": {},
   "outputs": [
    {
     "name": "stdout",
     "output_type": "stream",
     "text": [
      "TensorFlow Version: 1.1.0\n",
      "Default GPU Device: /gpu:0\n"
     ]
    }
   ],
   "source": [
    "\"\"\"\n",
    "DON'T MODIFY ANYTHING IN THIS CELL\n",
    "\"\"\"\n",
    "from distutils.version import LooseVersion\n",
    "import warnings\n",
    "import tensorflow as tf\n",
    "\n",
    "# Check TensorFlow Version\n",
    "assert LooseVersion(tf.__version__) >= LooseVersion('1.0'), 'Please use TensorFlow version 1.0 or newer'\n",
    "print('TensorFlow Version: {}'.format(tf.__version__))\n",
    "\n",
    "# Check for a GPU\n",
    "if not tf.test.gpu_device_name():\n",
    "    warnings.warn('No GPU found. Please use a GPU to train your neural network.')\n",
    "else:\n",
    "    print('Default GPU Device: {}'.format(tf.test.gpu_device_name()))"
   ]
  },
  {
   "cell_type": "markdown",
   "metadata": {},
   "source": [
    "### Input\n",
    "Implement the `get_inputs()` function to create TF Placeholders for the Neural Network.  It should create the following placeholders:\n",
    "- Input text placeholder named \"input\" using the [TF Placeholder](https://www.tensorflow.org/api_docs/python/tf/placeholder) `name` parameter.\n",
    "- Targets placeholder\n",
    "- Learning Rate placeholder\n",
    "\n",
    "Return the placeholders in the following tuple `(Input, Targets, LearningRate)`"
   ]
  },
  {
   "cell_type": "code",
   "execution_count": 10,
   "metadata": {},
   "outputs": [
    {
     "name": "stdout",
     "output_type": "stream",
     "text": [
      "Tests Passed\n"
     ]
    }
   ],
   "source": [
    "def get_inputs():\n",
    "    \"\"\"\n",
    "    Create TF Placeholders for input, targets, and learning rate.\n",
    "    :return: Tuple (input, targets, learning rate)\n",
    "    \"\"\"\n",
    "    # TODO: Implement Function\n",
    "    inputs_ = tf.placeholder(tf.int32, [None, None], name='input')\n",
    "    targets_ = tf.placeholder(tf.int32, [None, None], name='targets')\n",
    "    learning_rate = tf.placeholder(tf.float32, name='learning_rate')\n",
    "    keep_prob = tf.placeholder(tf.float32, name='keep_prob')\n",
    "    if pass_unittests:\n",
    "        return (inputs_, targets_, learning_rate)\n",
    "    else:\n",
    "        return (inputs_, targets_, learning_rate, keep_prob)\n",
    "\n",
    "\n",
    "\"\"\"\n",
    "DON'T MODIFY ANYTHING IN THIS CELL THAT IS BELOW THIS LINE\n",
    "\"\"\"\n",
    "if pass_unittests:\n",
    "    tests.test_get_inputs(get_inputs)"
   ]
  },
  {
   "cell_type": "markdown",
   "metadata": {},
   "source": [
    "### Build RNN Cell and Initialize\n",
    "Stack one or more [`BasicLSTMCells`](https://www.tensorflow.org/api_docs/python/tf/contrib/rnn/BasicLSTMCell) in a [`MultiRNNCell`](https://www.tensorflow.org/api_docs/python/tf/contrib/rnn/MultiRNNCell).\n",
    "- The Rnn size should be set using `rnn_size`\n",
    "- Initalize Cell State using the MultiRNNCell's [`zero_state()`](https://www.tensorflow.org/api_docs/python/tf/contrib/rnn/MultiRNNCell#zero_state) function\n",
    "    - Apply the name \"initial_state\" to the initial state using [`tf.identity()`](https://www.tensorflow.org/api_docs/python/tf/identity)\n",
    "\n",
    "Return the cell and initial state in the following tuple `(Cell, InitialState)`"
   ]
  },
  {
   "cell_type": "code",
   "execution_count": 11,
   "metadata": {},
   "outputs": [
    {
     "name": "stdout",
     "output_type": "stream",
     "text": [
      "Tests Passed\n"
     ]
    }
   ],
   "source": [
    "def get_init_cell(batch_size, rnn_size, keep_prob=1.0):\n",
    "    \"\"\"\n",
    "    Create an RNN Cell and initialize it.\n",
    "    :param batch_size: Size of batches\n",
    "    :param rnn_size: Size of RNNs\n",
    "    :return: Tuple (cell, initialize state)\n",
    "    \"\"\"\n",
    "    # TODO: Implement Function\n",
    "    lstm_layers = 2\n",
    "    \n",
    "    # Basic LSTM cell with dropout stacked 'lstm_layers' times\n",
    "    cell = tf.contrib.rnn.MultiRNNCell(\n",
    "        [tf.contrib.rnn.DropoutWrapper(\n",
    "            tf.contrib.rnn.BasicLSTMCell(rnn_size), output_keep_prob=keep_prob)\n",
    "         for _ in range(lstm_layers)])\n",
    "    \n",
    "    # Getting an initial state of all zeros\n",
    "    initial_state = cell.zero_state(batch_size, tf.float32)    \n",
    "    initial_state = tf.identity(initial_state, name='initial_state')\n",
    "    \n",
    "    return cell, initial_state\n",
    "\n",
    "\n",
    "\"\"\"\n",
    "DON'T MODIFY ANYTHING IN THIS CELL THAT IS BELOW THIS LINE\n",
    "\"\"\"\n",
    "if pass_unittests:\n",
    "    tests.test_get_init_cell(get_init_cell)"
   ]
  },
  {
   "cell_type": "markdown",
   "metadata": {},
   "source": [
    "### Word Embedding\n",
    "Apply embedding to `input_data` using TensorFlow.  Return the embedded sequence."
   ]
  },
  {
   "cell_type": "code",
   "execution_count": 12,
   "metadata": {},
   "outputs": [
    {
     "name": "stdout",
     "output_type": "stream",
     "text": [
      "Tests Passed\n"
     ]
    }
   ],
   "source": [
    "def get_embed(input_data, vocab_size, embed_dim):\n",
    "    \"\"\"\n",
    "    Create embedding for <input_data>.\n",
    "    :param input_data: TF placeholder for text input.\n",
    "    :param vocab_size: Number of words in vocabulary.\n",
    "    :param embed_dim: Number of embedding dimensions\n",
    "    :return: Embedded input.\n",
    "    \"\"\"\n",
    "    # TODO: Implement Function\n",
    "    embedding = tf.Variable(tf.random_uniform((vocab_size, embed_dim), -1, 1))\n",
    "    embed = tf.nn.embedding_lookup(embedding, input_data)\n",
    "    return embed\n",
    "\n",
    "\n",
    "\"\"\"\n",
    "DON'T MODIFY ANYTHING IN THIS CELL THAT IS BELOW THIS LINE\n",
    "\"\"\"\n",
    "tests.test_get_embed(get_embed)"
   ]
  },
  {
   "cell_type": "markdown",
   "metadata": {},
   "source": [
    "### Build RNN\n",
    "You created a RNN Cell in the `get_init_cell()` function.  Time to use the cell to create a RNN.\n",
    "- Build the RNN using the [`tf.nn.dynamic_rnn()`](https://www.tensorflow.org/api_docs/python/tf/nn/dynamic_rnn)\n",
    " - Apply the name \"final_state\" to the final state using [`tf.identity()`](https://www.tensorflow.org/api_docs/python/tf/identity)\n",
    "\n",
    "Return the outputs and final_state state in the following tuple `(Outputs, FinalState)` "
   ]
  },
  {
   "cell_type": "code",
   "execution_count": 13,
   "metadata": {},
   "outputs": [
    {
     "name": "stdout",
     "output_type": "stream",
     "text": [
      "Tests Passed\n"
     ]
    }
   ],
   "source": [
    "def build_rnn(cell, inputs):\n",
    "    \"\"\"\n",
    "    Create a RNN using a RNN Cell\n",
    "    :param cell: RNN Cell\n",
    "    :param inputs: Input text data\n",
    "    :return: Tuple (Outputs, Final State)\n",
    "    \"\"\"\n",
    "    # TODO: Implement Function\n",
    "    Outputs, FinalState = tf.nn.dynamic_rnn(cell, inputs, dtype=tf.float32)\n",
    "    FinalState = tf.identity(FinalState, name='final_state')\n",
    "    \n",
    "    return (Outputs, FinalState)\n",
    "\n",
    "\n",
    "\"\"\"\n",
    "DON'T MODIFY ANYTHING IN THIS CELL THAT IS BELOW THIS LINE\n",
    "\"\"\"\n",
    "tests.test_build_rnn(build_rnn)"
   ]
  },
  {
   "cell_type": "markdown",
   "metadata": {},
   "source": [
    "### Build the Neural Network\n",
    "Apply the functions you implemented above to:\n",
    "- Apply embedding to `input_data` using your `get_embed(input_data, vocab_size, embed_dim)` function.\n",
    "- Build RNN using `cell` and your `build_rnn(cell, inputs)` function.\n",
    "- Apply a fully connected layer with a linear activation and `vocab_size` as the number of outputs.\n",
    "\n",
    "Return the logits and final state in the following tuple (Logits, FinalState) "
   ]
  },
  {
   "cell_type": "code",
   "execution_count": 14,
   "metadata": {},
   "outputs": [
    {
     "name": "stdout",
     "output_type": "stream",
     "text": [
      "Tests Passed\n"
     ]
    }
   ],
   "source": [
    "def build_nn(cell, rnn_size, input_data, vocab_size, embed_dim):\n",
    "    \"\"\"\n",
    "    Build part of the neural network\n",
    "    :param cell: RNN cell\n",
    "    :param rnn_size: Size of rnns\n",
    "    :param input_data: Input data\n",
    "    :param vocab_size: Vocabulary size\n",
    "    :param embed_dim: Number of embedding dimensions\n",
    "    :return: Tuple (Logits, FinalState)\n",
    "    \"\"\"\n",
    "    # TODO: Implement Function\n",
    "    embed = get_embed(input_data, vocab_size, embed_dim)\n",
    "    Outputs, FinalState = build_rnn(cell, embed)\n",
    "    Logits = tf.contrib.layers.fully_connected(Outputs, vocab_size, activation_fn=None) # [:, -1]\n",
    "    return (Logits, FinalState)\n",
    "\n",
    "\n",
    "\"\"\"\n",
    "DON'T MODIFY ANYTHING IN THIS CELL THAT IS BELOW THIS LINE\n",
    "\"\"\"\n",
    "tests.test_build_nn(build_nn)"
   ]
  },
  {
   "cell_type": "markdown",
   "metadata": {},
   "source": [
    "### Batches\n",
    "Implement `get_batches` to create batches of input and targets using `int_text`.  The batches should be a Numpy array with the shape `(number of batches, 2, batch size, sequence length)`. Each batch contains two elements:\n",
    "- The first element is a single batch of **input** with the shape `[batch size, sequence length]`\n",
    "- The second element is a single batch of **targets** with the shape `[batch size, sequence length]`\n",
    "\n",
    "If you can't fill the last batch with enough data, drop the last batch.\n",
    "\n",
    "For exmple, `get_batches([1, 2, 3, 4, 5, 6, 7, 8, 9, 10, 11, 12, 13, 14, 15, 16, 17, 18, 19, 20], 3, 2)` would return a Numpy array of the following:\n",
    "```\n",
    "[\n",
    "  # First Batch\n",
    "  [\n",
    "    # Batch of Input\n",
    "    [[ 1  2], [ 7  8], [13 14]]\n",
    "    # Batch of targets\n",
    "    [[ 2  3], [ 8  9], [14 15]]\n",
    "  ]\n",
    "\n",
    "  # Second Batch\n",
    "  [\n",
    "    # Batch of Input\n",
    "    [[ 3  4], [ 9 10], [15 16]]\n",
    "    # Batch of targets\n",
    "    [[ 4  5], [10 11], [16 17]]\n",
    "  ]\n",
    "\n",
    "  # Third Batch\n",
    "  [\n",
    "    # Batch of Input\n",
    "    [[ 5  6], [11 12], [17 18]]\n",
    "    # Batch of targets\n",
    "    [[ 6  7], [12 13], [18  1]]\n",
    "  ]\n",
    "]\n",
    "```\n",
    "\n",
    "Notice that the last target value in the last batch is the first input value of the first batch. In this case, `1`. This is a common technique used when creating sequence batches, although it is rather unintuitive."
   ]
  },
  {
   "cell_type": "code",
   "execution_count": 15,
   "metadata": {},
   "outputs": [
    {
     "name": "stdout",
     "output_type": "stream",
     "text": [
      "Tests Passed\n"
     ]
    }
   ],
   "source": [
    "def get_batches(int_text, batch_size, seq_length):\n",
    "    \"\"\"\n",
    "    Return batches of input and target\n",
    "    :param int_text: Text with the words replaced by their ids\n",
    "    :param batch_size: The size of batch\n",
    "    :param seq_length: The length of sequence\n",
    "    :return: Batches as a Numpy array\n",
    "    \"\"\"\n",
    "    # TODO: Implement Function\n",
    "    if pass_unittests:\n",
    "        n_batches = (len(int_text) - 1)//(batch_size*seq_length)\n",
    "        # shape = (number of batches, 2, batch size, sequence length)\n",
    "        batches = np.ndarray(shape=(batch_size, 2, n_batches, seq_length), dtype=int)\n",
    "        shape = (batch_size, n_batches, seq_length)\n",
    "        batches[:,0,:,:] = np.array(\n",
    "            int_text[0:n_batches*batch_size*seq_length]).reshape(shape)\n",
    "        batches[:,1,:,:] = np.array(\n",
    "            int_text[1:n_batches*batch_size*seq_length+1]).reshape(shape)\n",
    "        batches = np.transpose(batches, axes=(2,1,0,3))\n",
    "        batches[-1,-1,-1,-1] = batches[0,0,0,0]\n",
    "    else:\n",
    "        # Sequence length is trimed words per line length. \n",
    "        # Example:\n",
    "        # line: \"Jason: Hello my Name is Jason . \"\n",
    "        # line with seq_length = 4: \"Jason: Hello my Name\"\n",
    "        # line with seq_length = 9: \n",
    "        #     \"Jason: 'placeholder' 'placeholder' Hello my Name is Jason .\"\n",
    "        '''\n",
    "        features = np.zeros((len(int_text), seq_length), dtype=int)\n",
    "        for i, row in enumerate(int_text):\n",
    "            features[i, -len(row):] = np.array(row)[-seq_length:]\n",
    "            features[i, 0] = row[0]\n",
    "        n_batches = (len(features) - 1)//(batch_size)\n",
    "        # shape = (number of batches, 2, batch size, sequence length)\n",
    "        batches = np.ndarray(shape=(n_batches, 2, batch_size, seq_length), dtype=int)\n",
    "        shape = (n_batches, batch_size, seq_length)\n",
    "        batches[:,0,:,:] = np.array(\n",
    "            features[0:n_batches*batch_size,:]).reshape(shape)\n",
    "        batches[:,1,:,:] = np.array(\n",
    "            features[1:n_batches*batch_size+1,:]).reshape(shape)\n",
    "        '''\n",
    "        int_text_flat = [item for sublist in int_text for item in sublist]\n",
    "        n_batches = (len(int_text_flat) - 1)//(batch_size*seq_length)\n",
    "        # shape = (number of batches, 2, batch size, sequence length)\n",
    "        batches = np.ndarray(shape=(n_batches, 2, batch_size, seq_length), dtype=int)\n",
    "        shape = (n_batches, batch_size, seq_length)\n",
    "        batches[:,0,:,:] = np.array(\n",
    "            int_text_flat[0:n_batches*batch_size*seq_length]).reshape(shape)\n",
    "        batches[:,1,:,:] = np.array(\n",
    "            int_text_flat[1:n_batches*batch_size*seq_length+1]).reshape(shape)\n",
    "        \n",
    "    return batches\n",
    "\n",
    "#test = get_batches(list(range(1,21)), 3, 2)\n",
    "#test = get_batches(int_text, 5, 5)\n",
    "#print(test)\n",
    "\n",
    "\"\"\"\n",
    "DON'T MODIFY ANYTHING IN THIS CELL THAT IS BELOW THIS LINE\n",
    "\"\"\"\n",
    "if pass_unittests:\n",
    "    tests.test_get_batches(get_batches)"
   ]
  },
  {
   "cell_type": "markdown",
   "metadata": {},
   "source": [
    "## Neural Network Training\n",
    "### Hyperparameters\n",
    "Tune the following parameters:\n",
    "\n",
    "- Set `num_epochs` to the number of epochs.\n",
    "- Set `batch_size` to the batch size.\n",
    "- Set `rnn_size` to the size of the RNNs.\n",
    "- Set `embed_dim` to the size of the embedding.\n",
    "- Set `seq_length` to the length of sequence.\n",
    "- Set `learning_rate` to the learning rate.\n",
    "- Set `show_every_n_batches` to the number of batches the neural network should print progress."
   ]
  },
  {
   "cell_type": "code",
   "execution_count": 19,
   "metadata": {
    "collapsed": true
   },
   "outputs": [],
   "source": [
    "# Number of Epochs\n",
    "num_epochs = 100\n",
    "# Batch Size\n",
    "batch_size = 128 # 256\n",
    "# RNN Size\n",
    "rnn_size = 512 # 256 \n",
    "# Embedding Dimension Size\n",
    "embed_dim = 128\n",
    "# Sequence Length\n",
    "seq_length = 25\n",
    "# Learning Rate\n",
    "learning_rate = 0.01\n",
    "# Keep Probability\n",
    "keep_probability = 1.0\n",
    "# Show stats for every n number of batches\n",
    "show_every_n_batches = 50\n",
    "\n",
    "\n",
    "\"\"\"\n",
    "DON'T MODIFY ANYTHING IN THIS CELL THAT IS BELOW THIS LINE\n",
    "\"\"\"\n",
    "save_dir = './save'"
   ]
  },
  {
   "cell_type": "markdown",
   "metadata": {},
   "source": [
    "### Build the Graph\n",
    "Build the graph using the neural network you implemented."
   ]
  },
  {
   "cell_type": "code",
   "execution_count": 20,
   "metadata": {
    "collapsed": true
   },
   "outputs": [],
   "source": [
    "\"\"\"\n",
    "DON'T MODIFY ANYTHING IN THIS CELL\n",
    "\"\"\"\n",
    "from tensorflow.contrib import seq2seq\n",
    "\n",
    "train_graph = tf.Graph()\n",
    "with train_graph.as_default():\n",
    "    vocab_size = len(int_to_vocab)\n",
    "    if pass_unittests:\n",
    "        input_text, targets, lr = get_inputs()\n",
    "    else:\n",
    "        input_text, targets, lr, keep_prob = get_inputs()\n",
    "    input_data_shape = tf.shape(input_text)\n",
    "    if pass_unittests:\n",
    "        cell, initial_state = get_init_cell(input_data_shape[0], rnn_size)\n",
    "    else:\n",
    "        cell, initial_state = get_init_cell(input_data_shape[0], rnn_size, keep_prob)\n",
    "    logits, final_state = build_nn(cell, rnn_size, input_text, vocab_size, embed_dim)\n",
    "\n",
    "    # Probabilities for generating words\n",
    "    probs = tf.nn.softmax(logits, name='probs')\n",
    "\n",
    "    # Loss function\n",
    "    cost = seq2seq.sequence_loss(\n",
    "        logits,\n",
    "        targets,\n",
    "        tf.ones([input_data_shape[0], input_data_shape[1]]))\n",
    "\n",
    "    # Optimizer\n",
    "    optimizer = tf.train.AdamOptimizer(lr)\n",
    "\n",
    "    # Gradient Clipping\n",
    "    gradients = optimizer.compute_gradients(cost)\n",
    "    capped_gradients = [(tf.clip_by_value(grad, -1., 1.), var) for grad, var in gradients if grad is not None]\n",
    "    train_op = optimizer.apply_gradients(capped_gradients)"
   ]
  },
  {
   "cell_type": "markdown",
   "metadata": {},
   "source": [
    "## Train\n",
    "Train the neural network on the preprocessed data.  If you have a hard time getting a good loss, check the [forums](https://discussions.udacity.com/) to see if anyone is having the same problem."
   ]
  },
  {
   "cell_type": "code",
   "execution_count": 21,
   "metadata": {
    "scrolled": true
   },
   "outputs": [
    {
     "name": "stdout",
     "output_type": "stream",
     "text": [
      "Epoch   0 Batch    0/21   train_loss = 8.822\n",
      "Epoch   2 Batch    8/21   train_loss = 6.332\n",
      "Epoch   4 Batch   16/21   train_loss = 6.093\n",
      "Epoch   7 Batch    3/21   train_loss = 5.438\n",
      "Epoch   9 Batch   11/21   train_loss = 5.091\n",
      "Epoch  11 Batch   19/21   train_loss = 4.458\n",
      "Epoch  14 Batch    6/21   train_loss = 3.891\n",
      "Epoch  16 Batch   14/21   train_loss = 3.545\n",
      "Epoch  19 Batch    1/21   train_loss = 2.875\n",
      "Epoch  21 Batch    9/21   train_loss = 2.516\n",
      "Epoch  23 Batch   17/21   train_loss = 2.181\n",
      "Epoch  26 Batch    4/21   train_loss = 1.726\n",
      "Epoch  28 Batch   12/21   train_loss = 1.581\n",
      "Epoch  30 Batch   20/21   train_loss = 1.289\n",
      "Epoch  33 Batch    7/21   train_loss = 0.953\n",
      "Epoch  35 Batch   15/21   train_loss = 0.735\n",
      "Epoch  38 Batch    2/21   train_loss = 0.564\n",
      "Epoch  40 Batch   10/21   train_loss = 0.475\n",
      "Epoch  42 Batch   18/21   train_loss = 0.387\n",
      "Epoch  45 Batch    5/21   train_loss = 0.240\n",
      "Epoch  47 Batch   13/21   train_loss = 0.240\n",
      "Epoch  50 Batch    0/21   train_loss = 0.154\n",
      "Epoch  52 Batch    8/21   train_loss = 0.148\n",
      "Epoch  54 Batch   16/21   train_loss = 0.148\n",
      "Epoch  57 Batch    3/21   train_loss = 0.123\n",
      "Epoch  59 Batch   11/21   train_loss = 0.132\n",
      "Epoch  61 Batch   19/21   train_loss = 0.147\n",
      "Epoch  64 Batch    6/21   train_loss = 0.121\n",
      "Epoch  66 Batch   14/21   train_loss = 0.140\n",
      "Epoch  69 Batch    1/21   train_loss = 0.096\n",
      "Epoch  71 Batch    9/21   train_loss = 0.108\n",
      "Epoch  73 Batch   17/21   train_loss = 0.133\n",
      "Epoch  76 Batch    4/21   train_loss = 0.094\n",
      "Epoch  78 Batch   12/21   train_loss = 0.138\n",
      "Epoch  80 Batch   20/21   train_loss = 0.131\n",
      "Epoch  83 Batch    7/21   train_loss = 0.116\n",
      "Epoch  85 Batch   15/21   train_loss = 0.126\n",
      "Epoch  88 Batch    2/21   train_loss = 0.110\n",
      "Epoch  90 Batch   10/21   train_loss = 0.106\n",
      "Epoch  92 Batch   18/21   train_loss = 0.114\n",
      "Epoch  95 Batch    5/21   train_loss = 0.115\n",
      "Epoch  97 Batch   13/21   train_loss = 0.137\n",
      "Model Trained and Saved\n"
     ]
    }
   ],
   "source": [
    "\"\"\"\n",
    "DON'T MODIFY ANYTHING IN THIS CELL\n",
    "\"\"\"\n",
    "batches = get_batches(int_text, batch_size, seq_length)\n",
    "\n",
    "with tf.Session(graph=train_graph) as sess:\n",
    "    sess.run(tf.global_variables_initializer())\n",
    "\n",
    "    for epoch_i in range(num_epochs):\n",
    "        state = sess.run(initial_state, {input_text: batches[0][0]})\n",
    "        ind = np.arange(len(batches))\n",
    "        np.random.shuffle(ind)\n",
    "        #for batch_i, (x, y) in enumerate(batches):\n",
    "        for batch_i in range(len(batches)):\n",
    "            (x, y) = batches[ind[batch_i]]\n",
    "            feed = {\n",
    "                input_text: x,\n",
    "                targets: y,\n",
    "                initial_state: state,\n",
    "                lr: learning_rate}\n",
    "            if not pass_unittests:\n",
    "                feed[keep_prob] = keep_probability\n",
    "            train_loss, state, _ = sess.run([cost, final_state, train_op], feed)\n",
    "\n",
    "            # Show every <show_every_n_batches> batches\n",
    "            if (epoch_i * len(batches) + batch_i) % show_every_n_batches == 0:\n",
    "                print('Epoch {:>3} Batch {:>4}/{}   train_loss = {:.3f}'.format(\n",
    "                    epoch_i,\n",
    "                    batch_i,\n",
    "                    len(batches),\n",
    "                    train_loss))\n",
    "\n",
    "    # Save Model\n",
    "    saver = tf.train.Saver()\n",
    "    saver.save(sess, save_dir)\n",
    "    print('Model Trained and Saved')"
   ]
  },
  {
   "cell_type": "markdown",
   "metadata": {},
   "source": [
    "## Save Parameters\n",
    "Save `seq_length` and `save_dir` for generating a new TV script."
   ]
  },
  {
   "cell_type": "code",
   "execution_count": 22,
   "metadata": {
    "collapsed": true
   },
   "outputs": [],
   "source": [
    "\"\"\"\n",
    "DON'T MODIFY ANYTHING IN THIS CELL\n",
    "\"\"\"\n",
    "# Save parameters for checkpoint\n",
    "helper.save_params((seq_length, save_dir))"
   ]
  },
  {
   "cell_type": "markdown",
   "metadata": {},
   "source": [
    "# Checkpoint"
   ]
  },
  {
   "cell_type": "code",
   "execution_count": 23,
   "metadata": {
    "collapsed": true
   },
   "outputs": [],
   "source": [
    "pass_unittests = True\n",
    "\"\"\"\n",
    "DON'T MODIFY ANYTHING IN THIS CELL\n",
    "\"\"\"\n",
    "import tensorflow as tf\n",
    "import numpy as np\n",
    "if pass_unittests:\n",
    "    import helper\n",
    "else:\n",
    "    import helper_new as helper\n",
    "import problem_unittests as tests\n",
    "\n",
    "# _, vocab_to_int, int_to_vocab, token_dict = helper.load_preprocess()\n",
    "if pass_unittests:\n",
    "    _, vocab_to_int, int_to_vocab, token_dict = helper.load_preprocess()\n",
    "    seq_length, load_dir = helper.load_params()\n",
    "else:\n",
    "    _, scene_marker, vocab_to_int, int_to_vocab = helper.load_preprocess()\n",
    "    seq_length, load_dir = helper.load_params()"
   ]
  },
  {
   "cell_type": "markdown",
   "metadata": {},
   "source": [
    "## Implement Generate Functions\n",
    "### Get Tensors\n",
    "Get tensors from `loaded_graph` using the function [`get_tensor_by_name()`](https://www.tensorflow.org/api_docs/python/tf/Graph#get_tensor_by_name).  Get the tensors using the following names:\n",
    "- \"input:0\"\n",
    "- \"initial_state:0\"\n",
    "- \"final_state:0\"\n",
    "- \"probs:0\"\n",
    "\n",
    "Return the tensors in the following tuple `(InputTensor, InitialStateTensor, FinalStateTensor, ProbsTensor)` "
   ]
  },
  {
   "cell_type": "code",
   "execution_count": 24,
   "metadata": {},
   "outputs": [
    {
     "name": "stdout",
     "output_type": "stream",
     "text": [
      "Tests Passed\n"
     ]
    }
   ],
   "source": [
    "def get_tensors(loaded_graph):\n",
    "    \"\"\"\n",
    "    Get input, initial state, final state, and probabilities tensor from <loaded_graph>\n",
    "    :param loaded_graph: TensorFlow graph loaded from file\n",
    "    :return: Tuple (InputTensor, InitialStateTensor, FinalStateTensor, ProbsTensor)\n",
    "    \"\"\"\n",
    "    # TODO: Implement Function\n",
    "    InputTensor        = loaded_graph.get_tensor_by_name(name=\"input:0\")\n",
    "    InitialStateTensor = loaded_graph.get_tensor_by_name(name=\"initial_state:0\")\n",
    "    FinalStateTensor   = loaded_graph.get_tensor_by_name(name=\"final_state:0\")\n",
    "    ProbsTensor        = loaded_graph.get_tensor_by_name(name=\"probs:0\")\n",
    "    \n",
    "    return (InputTensor, InitialStateTensor, FinalStateTensor, ProbsTensor)\n",
    "\n",
    "\n",
    "\n",
    "\"\"\"\n",
    "DON'T MODIFY ANYTHING IN THIS CELL THAT IS BELOW THIS LINE\n",
    "\"\"\"\n",
    "tests.test_get_tensors(get_tensors)"
   ]
  },
  {
   "cell_type": "markdown",
   "metadata": {},
   "source": [
    "### Choose Word\n",
    "Implement the `pick_word()` function to select the next word using `probabilities`."
   ]
  },
  {
   "cell_type": "code",
   "execution_count": 25,
   "metadata": {},
   "outputs": [
    {
     "name": "stdout",
     "output_type": "stream",
     "text": [
      "Tests Passed\n"
     ]
    }
   ],
   "source": [
    "def pick_word(probabilities, int_to_vocab):\n",
    "    \"\"\"\n",
    "    Pick the next word in the generated text\n",
    "    :param probabilities: Probabilites of the next word\n",
    "    :param int_to_vocab: Dictionary of word ids as the keys and words as the values\n",
    "    :return: String of the predicted word\n",
    "    \"\"\"\n",
    "    # TODO: Implement Function\n",
    "    ind = np.argmax(probabilities) # index of maximum value\n",
    "    word = int_to_vocab[ind]\n",
    "    \n",
    "    return word \n",
    "\n",
    "\n",
    "\"\"\"\n",
    "DON'T MODIFY ANYTHING IN THIS CELL THAT IS BELOW THIS LINE\n",
    "\"\"\"\n",
    "tests.test_pick_word(pick_word)"
   ]
  },
  {
   "cell_type": "markdown",
   "metadata": {},
   "source": [
    "## Generate TV Script\n",
    "This will generate the TV script for you.  Set `gen_length` to the length of TV script you want to generate."
   ]
  },
  {
   "cell_type": "code",
   "execution_count": 26,
   "metadata": {},
   "outputs": [
    {
     "name": "stdout",
     "output_type": "stream",
     "text": [
      "INFO:tensorflow:Restoring parameters from ./save\n",
      "moe_szyslak:(uneasy) oh, i can't wait till you guys get to uh...\n",
      "thought_bubble_lenny: yep, that's what we'd do? we'd like to get edna out of you, you can say you could go home and take any dog instead of a hundred and i'd her man that's too.\n",
      "marge_simpson: aw, that's a lot about human nature by watching things these people i know.\n",
      "\n",
      "\n",
      "moe_szyslak: ah, okay, what happened?\n",
      "lenny_leonard:(into phone) it's you, you want no.\n",
      "moe_szyslak: i don't know why i just gonna win.\n",
      "moe_szyslak: oh, no. this is the moment.\n",
      "homer_simpson: yep. you know this is a little bit, duff\" who gave\" the real two\" accurate 'cause\" kent to do with the...(then) yeah, but, uh, can you think it would have.\n",
      "carl_carlson: he got that character is a beer?\n",
      "barney_gumble: oh, wait, look at me! i'm a problem? that's the best friend you've got to\n"
     ]
    }
   ],
   "source": [
    "#print(int_to_vocab.values())\n",
    "gen_length = 200\n",
    "# homer_simpson, moe_szyslak, or Barney_Gumble\n",
    "if pass_unittests:\n",
    "    prime_word = 'moe_szyslak'\n",
    "else:\n",
    "    prime_word = '\\nMoe Szyslak'\n",
    "\n",
    "\"\"\"\n",
    "DON'T MODIFY ANYTHING IN THIS CELL THAT IS BELOW THIS LINE\n",
    "\"\"\"\n",
    "loaded_graph = tf.Graph()\n",
    "with tf.Session(graph=loaded_graph) as sess:\n",
    "    # Load saved model\n",
    "    loader = tf.train.import_meta_graph(load_dir + '.meta')\n",
    "    loader.restore(sess, load_dir)\n",
    "\n",
    "    # Get Tensors from loaded model\n",
    "    input_text, initial_state, final_state, probs = get_tensors(loaded_graph)\n",
    "    if not pass_unittests:\n",
    "        loaded_keep_prob = loaded_graph.get_tensor_by_name('keep_prob:0')\n",
    "\n",
    "    # Sentences generation setup\n",
    "    gen_sentences = [prime_word + ':']\n",
    "    prev_state = sess.run(initial_state, {input_text: np.array([[1]])})\n",
    "\n",
    "    # Generate sentences\n",
    "    for n in range(gen_length):\n",
    "        # Dynamic Input\n",
    "        dyn_input = [[vocab_to_int[word] for word in gen_sentences[-seq_length:]]]\n",
    "        dyn_seq_length = len(dyn_input[0])\n",
    "\n",
    "        # Get Prediction\n",
    "        if pass_unittests:\n",
    "            feed={input_text: dyn_input, initial_state: prev_state}\n",
    "        else:\n",
    "            feed={input_text: dyn_input, initial_state: prev_state, loaded_keep_prob: 1.0}\n",
    "        probabilities, prev_state = sess.run(\n",
    "            [probs, final_state],\n",
    "            feed_dict=feed)\n",
    "        pred_word = pick_word(probabilities[dyn_seq_length-1], int_to_vocab)\n",
    "        #if not pass_unittests:\n",
    "        #    pass\n",
    "        gen_sentences.append(pred_word)\n",
    "\n",
    "    # Remove tokens\n",
    "    tv_script = ' '.join(gen_sentences)\n",
    "    if pass_unittests:\n",
    "        for key, token in token_dict.items():\n",
    "            ending = ' ' if key in ['\\n', '(', '\"'] else ''\n",
    "            tv_script = tv_script.replace(' ' + token.lower(), key)\n",
    "        tv_script = tv_script.replace('\\n ', '\\n')\n",
    "        tv_script = tv_script.replace('( ', '(')\n",
    "    else:\n",
    "        tv_script = helper.remove_token_spaces(tv_script)\n",
    "        \n",
    "    print(tv_script)"
   ]
  },
  {
   "cell_type": "markdown",
   "metadata": {},
   "source": [
    "# The TV Script is Nonsensical\n",
    "It's ok if the TV script doesn't make any sense.  We trained on less than a megabyte of text.  In order to get good results, you'll have to use a smaller vocabulary or get more data.  Luckly there's more data!  As we mentioned in the begging of this project, this is a subset of [another dataset](https://www.kaggle.com/wcukierski/the-simpsons-by-the-data).  We didn't have you train on all the data, because that would take too long.  However, you are free to train your neural network on all the data.  After you complete the project, of course.\n",
    "# Submitting This Project\n",
    "When submitting this project, make sure to run all the cells before saving the notebook. Save the notebook file as \"dlnd_tv_script_generation.ipynb\" and save it as a HTML file under \"File\" -> \"Download as\". Include the \"helper.py\" and \"problem_unittests.py\" files in your submission."
   ]
  }
 ],
 "metadata": {
  "kernelspec": {
   "display_name": "Python 3",
   "language": "python",
   "name": "python3"
  },
  "language_info": {
   "codemirror_mode": {
    "name": "ipython",
    "version": 3
   },
   "file_extension": ".py",
   "mimetype": "text/x-python",
   "name": "python",
   "nbconvert_exporter": "python",
   "pygments_lexer": "ipython3",
   "version": "3.5.3"
  },
  "widgets": {
   "state": {},
   "version": "1.1.2"
  }
 },
 "nbformat": 4,
 "nbformat_minor": 1
}
